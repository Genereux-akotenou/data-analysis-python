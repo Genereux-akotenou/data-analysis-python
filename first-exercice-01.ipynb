{
 "cells": [
  {
   "cell_type": "code",
   "execution_count": 3,
   "metadata": {},
   "outputs": [],
   "source": [
    "import numpy as np"
   ]
  },
  {
   "cell_type": "code",
   "execution_count": 45,
   "metadata": {},
   "outputs": [],
   "source": [
    "def calculate(list):\n",
    "  if len(list) != 9:\n",
    "    raise ValueError('List must contain nine numbers.')\n",
    "    return\n",
    "  else:\n",
    "    result = {}\n",
    "    data = np.reshape(list, (3, 3))\n",
    "    \n",
    "    #mean\n",
    "    mean1 = np.mean(data, axis=0).tolist()\n",
    "    mean2 = np.mean(data, axis=1).tolist()\n",
    "    mean3 = np.mean(data)\n",
    "    result['mean'] = [mean1, mean2, mean3]\n",
    "    \n",
    "    #variance\n",
    "    var1 = np.var(data, axis=0).tolist()\n",
    "    var2 = np.var(data, axis=1).tolist()\n",
    "    var3 = np.var(data)\n",
    "    result['variance'] = [var1, var2, var3]\n",
    "    \n",
    "    #standard deviation\n",
    "    std1 = np.std(data, axis=0).tolist()\n",
    "    std2 = np.std(data, axis=1).tolist()\n",
    "    std3 = np.std(data)\n",
    "    result['standard deviation'] = [std1, std2, std3]\n",
    "    \n",
    "    #max\n",
    "    max1 = np.max(data, axis=0).tolist()\n",
    "    max2 = np.max(data, axis=1).tolist()\n",
    "    max3 = np.max(data)\n",
    "    result['max'] = [max1, max2, max3]\n",
    "    \n",
    "    #min\n",
    "    min1 = np.min(data, axis=0).tolist()\n",
    "    min2 = np.min(data, axis=1).tolist()\n",
    "    min3 = np.min(data)\n",
    "    result['min'] = [min1, min2, min3]\n",
    "    \n",
    "    #sum\n",
    "    sum1 = np.sum(data, axis=0).tolist()\n",
    "    sum2 = np.sum(data, axis=1).tolist()\n",
    "    sum3 = np.sum(data)\n",
    "    result['sum'] = [sum1, sum2, sum3]\n",
    "    \n",
    "    #return\n",
    "    return result"
   ]
  },
  {
   "cell_type": "code",
   "execution_count": 46,
   "metadata": {},
   "outputs": [
    {
     "name": "stdout",
     "output_type": "stream",
     "text": [
      "{'mean': [[3.0, 4.0, 5.0], [1.0, 4.0, 7.0], 4.0], 'variance': [[6.0, 6.0, 6.0], [0.6666666666666666, 0.6666666666666666, 0.6666666666666666], 6.666666666666667], 'standard deviation': [[2.449489742783178, 2.449489742783178, 2.449489742783178], [0.816496580927726, 0.816496580927726, 0.816496580927726], 2.581988897471611], 'max': [[6, 7, 8], [2, 5, 8], 8], 'min': [[0, 1, 2], [0, 3, 6], 0], 'sum': [[9, 12, 15], [3, 12, 21], 36]}\n"
     ]
    }
   ],
   "source": [
    "print(calculate([0,1,2,3,4,5,6,7,8]))"
   ]
  },
  {
   "cell_type": "code",
   "execution_count": 8,
   "metadata": {},
   "outputs": [],
   "source": [
    "a = np.array([1, 2, 3])"
   ]
  },
  {
   "cell_type": "code",
   "execution_count": 9,
   "metadata": {},
   "outputs": [
    {
     "data": {
      "text/plain": [
       "array([[0, 1, 2],\n",
       "       [3, 4, 5],\n",
       "       [6, 7, 8]])"
      ]
     },
     "execution_count": 9,
     "metadata": {},
     "output_type": "execute_result"
    }
   ],
   "source": [
    "np.reshape([0,1,2,3,4,5,6,7,8], (3, 3))"
   ]
  },
  {
   "cell_type": "code",
   "execution_count": 10,
   "metadata": {},
   "outputs": [
    {
     "data": {
      "text/plain": [
       "(3,)"
      ]
     },
     "execution_count": 10,
     "metadata": {},
     "output_type": "execute_result"
    }
   ],
   "source": [
    "np.shape(a)"
   ]
  },
  {
   "cell_type": "code",
   "execution_count": 32,
   "metadata": {},
   "outputs": [],
   "source": [
    "ok = np.mean(np.reshape([0,1,2,3,4,5,6,7,8], (3, 3)), axis=1)"
   ]
  },
  {
   "cell_type": "code",
   "execution_count": 33,
   "metadata": {},
   "outputs": [
    {
     "data": {
      "text/plain": [
       "array([1., 4., 7.])"
      ]
     },
     "execution_count": 33,
     "metadata": {},
     "output_type": "execute_result"
    }
   ],
   "source": [
    "ok"
   ]
  },
  {
   "cell_type": "code",
   "execution_count": 34,
   "metadata": {},
   "outputs": [
    {
     "data": {
      "text/plain": [
       "numpy.ndarray"
      ]
     },
     "execution_count": 34,
     "metadata": {},
     "output_type": "execute_result"
    }
   ],
   "source": [
    "type(ok)"
   ]
  },
  {
   "cell_type": "code",
   "execution_count": 36,
   "metadata": {},
   "outputs": [
    {
     "data": {
      "text/plain": [
       "list"
      ]
     },
     "execution_count": 36,
     "metadata": {},
     "output_type": "execute_result"
    }
   ],
   "source": [
    "type(ok.tolist())"
   ]
  },
  {
   "cell_type": "code",
   "execution_count": null,
   "metadata": {},
   "outputs": [],
   "source": []
  }
 ],
 "metadata": {
  "kernelspec": {
   "display_name": "Python 3",
   "language": "python",
   "name": "python3"
  },
  "language_info": {
   "codemirror_mode": {
    "name": "ipython",
    "version": 3
   },
   "file_extension": ".py",
   "mimetype": "text/x-python",
   "name": "python",
   "nbconvert_exporter": "python",
   "pygments_lexer": "ipython3",
   "version": "3.7.6"
  }
 },
 "nbformat": 4,
 "nbformat_minor": 4
}
